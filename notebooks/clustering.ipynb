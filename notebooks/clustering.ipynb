{
  "cells": [
    {
      "cell_type": "code",
      "execution_count": 7,
      "metadata": {},
      "outputs": [],
      "source": [
        "from source import dfs, feature_names\n",
        "\n",
        "from pyspark.ml.feature import VectorAssembler, StandardScaler\n",
        "from pyspark.ml.clustering import KMeans, BisectingKMeans\n",
        "from pyspark.sql.types import DoubleType\n",
        "from pyspark.sql.functions import col\n",
        "from pyspark.ml.functions import vector_to_array\n",
        "\n",
        "from utils import summary_plots, write_spark_file"
      ]
    },
    {
      "cell_type": "code",
      "execution_count": 8,
      "metadata": {},
      "outputs": [
        {
          "name": "stdout",
          "output_type": "stream",
          "text": [
            "+--------------------+-------------------+-----------+--------------------+---------+\n",
            "|               buyer|          avg_spent|number_txns|        avg_duration|frequency|\n",
            "+--------------------+-------------------+-----------+--------------------+---------+\n",
            "|\\x000000000002e33...|  621.0099000000009|          1|              2868.0|        1|\n",
            "|\\x00000000009a418...| 62084.025710500006|         14|  106767.85714285714|       11|\n",
            "|\\x0000396ed2931b1...| 212.14824999999996|          1|            103785.0|        1|\n",
            "|\\x0000a574f2030ff...| -7.472300000000001|          1|            262761.0|        1|\n",
            "|\\x000199cb7dfae39...|  513.9166833333334|          3|   361579.3333333333|        3|\n",
            "|\\x00031a9829a11ef...|            288.924|          1|         1.3035459E7|        1|\n",
            "|\\x00063ddb30be7bc...| -835.7995999999999|          1|            353473.0|        1|\n",
            "|\\x0006c3a51d493fd...|0.19244249999999985|          1|               768.0|        1|\n",
            "|\\x0007796d3b5bae6...|-13.598100000000002|          1|           1317196.0|        1|\n",
            "|\\x000a774b028e05a...| 1797.8281000000002|          1|           1274151.0|        1|\n",
            "|\\x0010108d287e168...|           -200.678|          1|           2900645.0|        1|\n",
            "|\\x00110e09134aec0...|  16.24828916666666|         30|  490565.36666666664|        7|\n",
            "|\\x0011843e79d0c1d...|         -847.83148|          4|           998758.75|        4|\n",
            "|\\x00125c14f990107...|        14740.92474|          3|1.4344534666666666E7|        3|\n",
            "|\\x00175dc0780e23d...|-30.762399999999957|          1|             99419.0|        1|\n",
            "|\\x0017740df8cd52a...|  187.3706927142857|          7|            155829.0|        7|\n",
            "|\\x00192821ac5aa99...|  9272.596436255739|          2|           4513813.0|        2|\n",
            "|\\x001b1e09360cdcc...|-20.193116666666658|          3|   5577638.333333333|        2|\n",
            "|\\x001cd703bddb3df...| 181.11078000000003|          1|           1386794.0|        1|\n",
            "|\\x001d76124bd0fd5...|-151.13980999999998|          1|            443072.0|        1|\n",
            "+--------------------+-------------------+-----------+--------------------+---------+\n",
            "only showing top 20 rows\n",
            "\n",
            "+-----+-----+\n",
            "|buyer|count|\n",
            "+-----+-----+\n",
            "+-----+-----+\n",
            "\n"
          ]
        }
      ],
      "source": [
        "dfs.show()\n",
        "dfs.groupBy('buyer').count().filter(\"count != 1\").show() # all rows are not redundant"
      ]
    },
    {
      "cell_type": "code",
      "execution_count": 9,
      "metadata": {},
      "outputs": [],
      "source": [
        "# try type conversion\n",
        "# dfs = dfs.withColumn(\"number_txns_double\", col(\"number_txns\").cast(DoubleType()))\n",
        "# dfs = dfs.withColumn(\"num_nftcontract_double\", col(\"num_nftcontract\").cast(DoubleType()))\n",
        "# dfs = dfs.withColumn(\"num_currency_double\", col(\"num_currency\").cast(DoubleType())) \n",
        "# dfs = dfs.withColumn(\"frequency_double\", col(\"frequency\").cast(DoubleType()))"
      ]
    },
    {
      "cell_type": "code",
      "execution_count": 10,
      "metadata": {},
      "outputs": [],
      "source": [
        "assemble=VectorAssembler(inputCols=feature_names, outputCol='features')\n",
        "assembled_data=assemble.transform(dfs)\n",
        "\n",
        "#Standardisation\n",
        "scaler = StandardScaler(inputCol='features', outputCol='scaled_features')\n",
        "scaler_model = scaler.fit(assembled_data)\n",
        "data = scaler_model.transform(assembled_data)"
      ]
    },
    {
      "cell_type": "code",
      "execution_count": 11,
      "metadata": {},
      "outputs": [],
      "source": [
        "# vector to array\n",
        "# data = data.withColumn(\"sfv\", (vector_to_array('scaled_features', \"float32\"))) #sfv sparse feature vector"
      ]
    },
    {
      "cell_type": "code",
      "execution_count": 12,
      "metadata": {},
      "outputs": [
        {
          "name": "stdout",
          "output_type": "stream",
          "text": [
            "{'model': 'bisecting_kmeans', 'k': 3, 'feature_names': ['avg_spent', 'number_txns', 'avg_duration', 'frequency']}\n"
          ]
        },
        {
          "name": "stderr",
          "output_type": "stream",
          "text": [
            "[Stage 25:>                                                         (0 + 8) / 8]\r"
          ]
        },
        {
          "name": "stdout",
          "output_type": "stream",
          "text": [
            "23/05/02 11:06:17 WARN InstanceBuilder$JavaBLAS: Failed to load implementation from:dev.ludovic.netlib.blas.VectorBLAS\n"
          ]
        },
        {
          "name": "stderr",
          "output_type": "stream",
          "text": [
            "                                                                                \r"
          ]
        },
        {
          "name": "stdout",
          "output_type": "stream",
          "text": [
            "+--------------------+------------------+-----------+------------------+---------+--------------------+--------------------+----------+\n",
            "|               buyer|         avg_spent|number_txns|      avg_duration|frequency|            features|     scaled_features|prediction|\n",
            "+--------------------+------------------+-----------+------------------+---------+--------------------+--------------------+----------+\n",
            "|\\x000000000002e33...| 621.0099000000009|          1|            2868.0|        1|[621.009900000000...|[0.04122621968291...|         0|\n",
            "|\\x00000000009a418...|62084.025710500006|         14|106767.85714285714|       11|[62084.0257105000...|[4.12149578088962...|         2|\n",
            "+--------------------+------------------+-----------+------------------+---------+--------------------+--------------------+----------+\n",
            "only showing top 2 rows\n",
            "\n"
          ]
        }
      ],
      "source": [
        "# model fit\n",
        "config = {\n",
        "    \"model\": \"kmeans\",\n",
        "    \"k\": 3,\n",
        "    \"feature_names\": ['avg_spent','number_txns','avg_duration','frequency'] #  'num_nftcontract', #  'num_currency',\n",
        "}\n",
        "# config = {\n",
        "#     \"model\": \"bisecting_kmeans\",\n",
        "#     \"k\": 3,\n",
        "#     \"feature_names\": ['avg_spent','number_txns','avg_duration','frequency'] #  'num_nftcontract', #  'num_currency',\n",
        "# }\n",
        "print(config)\n",
        "if config['model'] == \"kmeans\":\n",
        "    Model = KMeans(featuresCol='scaled_features', k=config[\"k\"],maxIter=20, initMode='k-means||', seed = 1)\n",
        "elif config['model'] == 'bisecting_kmeans':\n",
        "    Model = BisectingKMeans(featuresCol='scaled_features', k=config[\"k\"],maxIter=20, seed = 1)\n",
        "else:\n",
        "    raise Exception(\"model not recognised\")\n",
        "\n",
        "\n",
        "model = Model.fit(data)\n",
        "output = model.transform(data)\n",
        "output.show(2)"
      ]
    },
    {
      "cell_type": "code",
      "execution_count": 13,
      "metadata": {},
      "outputs": [
        {
          "name": "stdout",
          "output_type": "stream",
          "text": [
            "23/05/02 11:06:22 WARN MemoryManager: Total allocation exceeds 95.00% (1,020,054,720 bytes) of heap memory\n",
            "Scaling row group sizes to 95.00% for 8 writers\n"
          ]
        },
        {
          "name": "stderr",
          "output_type": "stream",
          "text": [
            "                                                                                \r"
          ]
        }
      ],
      "source": [
        "write_spark_file(dfs,config)"
      ]
    },
    {
      "cell_type": "code",
      "execution_count": 14,
      "metadata": {},
      "outputs": [
        {
          "name": "stdout",
          "output_type": "stream",
          "text": [
            "+----------+\n",
            "|prediction|\n",
            "+----------+\n",
            "|         1|\n",
            "|         2|\n",
            "|         0|\n",
            "+----------+\n",
            "\n",
            "+----------+------+\n",
            "|prediction| count|\n",
            "+----------+------+\n",
            "|         1|  9797|\n",
            "|         0|160271|\n",
            "|      null|186035|\n",
            "|         2| 15967|\n",
            "+----------+------+\n",
            "\n"
          ]
        }
      ],
      "source": [
        "output.select('prediction').distinct().show()\n",
        "output.cube('prediction').count().show() # count frequency of clusters. Somehow null shows the total"
      ]
    },
    {
      "cell_type": "code",
      "execution_count": 15,
      "metadata": {},
      "outputs": [
        {
          "data": {
            "text/plain": [
              "[array([0.02274972, 0.27233212, 0.34282263, 0.68825451]),\n",
              " array([0.08143914, 0.20243029, 3.85946892, 0.55015124]),\n",
              " array([0.0328984 , 2.06304754, 0.32986566, 3.46589938])]"
            ]
          },
          "execution_count": 15,
          "metadata": {},
          "output_type": "execute_result"
        }
      ],
      "source": [
        "model.clusterCenters()\n"
      ]
    },
    {
      "cell_type": "code",
      "execution_count": 16,
      "metadata": {},
      "outputs": [
        {
          "name": "stderr",
          "output_type": "stream",
          "text": [
            "                                                                                \r"
          ]
        }
      ],
      "source": [
        "out_dfp = output.toPandas()\n"
      ]
    },
    {
      "cell_type": "code",
      "execution_count": 17,
      "metadata": {},
      "outputs": [
        {
          "name": "stderr",
          "output_type": "stream",
          "text": [
            "No artists with labels found to put in legend.  Note that artists whose label start with an underscore are ignored when legend() is called with no argument.\n"
          ]
        },
        {
          "data": {
            "text/plain": [
              "<Figure size 1000x1000 with 0 Axes>"
            ]
          },
          "metadata": {},
          "output_type": "display_data"
        }
      ],
      "source": [
        "g = summary_plots(out_dfp, config)"
      ]
    },
    {
      "cell_type": "code",
      "execution_count": 18,
      "metadata": {},
      "outputs": [
        {
          "name": "stdout",
          "output_type": "stream",
          "text": [
            "+--------------------+-------------------+-----------+--------------------+---------+--------------------+--------------------+----------+\n",
            "|               buyer|          avg_spent|number_txns|        avg_duration|frequency|            features|     scaled_features|prediction|\n",
            "+--------------------+-------------------+-----------+--------------------+---------+--------------------+--------------------+----------+\n",
            "|\\x000000000002e33...|  621.0099000000009|          1|              2868.0|        1|[621.009900000000...|[0.04122621968291...|         0|\n",
            "|\\x00000000009a418...| 62084.025710500006|         14|  106767.85714285714|       11|[62084.0257105000...|[4.12149578088962...|         2|\n",
            "|\\x0000396ed2931b1...| 212.14824999999996|          1|            103785.0|        1|[212.148249999999...|[0.01408362468914...|         0|\n",
            "|\\x0000a574f2030ff...| -7.472300000000001|          1|            262761.0|        1|[-7.4723000000000...|[-4.9605438067352...|         0|\n",
            "|\\x000199cb7dfae39...|  513.9166833333334|          3|   361579.3333333333|        3|[513.916683333333...|[0.03411675415450...|         0|\n",
            "|\\x00031a9829a11ef...|            288.924|          1|         1.3035459E7|        1|[288.924,1.0,1.30...|[0.01918044188291...|         1|\n",
            "|\\x00063ddb30be7bc...| -835.7995999999999|          1|            353473.0|        1|[-835.79959999999...|[-0.0554851990612...|         0|\n",
            "|\\x0006c3a51d493fd...|0.19244249999999985|          1|               768.0|        1|[0.19244249999999...|[1.27754433243801...|         0|\n",
            "|\\x0007796d3b5bae6...|-13.598100000000002|          1|           1317196.0|        1|[-13.598100000000...|[-9.0272032357329...|         0|\n",
            "|\\x000a774b028e05a...| 1797.8281000000002|          1|           1274151.0|        1|[1797.82810000000...|[0.11935020070165...|         0|\n",
            "|\\x0010108d287e168...|           -200.678|          1|           2900645.0|        1|[-200.678,1.0,290...|[-0.0133221633238...|         0|\n",
            "|\\x00110e09134aec0...|  16.24828916666666|         30|  490565.36666666664|        7|[16.2482891666666...|[0.00107865516903...|         2|\n",
            "|\\x0011843e79d0c1d...|         -847.83148|          4|           998758.75|        4|[-847.83148,4.0,9...|[-0.0562839446658...|         0|\n",
            "|\\x00125c14f990107...|        14740.92474|          3|1.4344534666666666E7|        3|[14740.92474,3.0,...|[0.97858762261362...|         1|\n",
            "|\\x00175dc0780e23d...|-30.762399999999957|          1|             99419.0|        1|[-30.762399999999...|[-0.0020421855760...|         0|\n",
            "|\\x0017740df8cd52a...|  187.3706927142857|          7|            155829.0|        7|[187.370692714285...|[0.01243874749819...|         2|\n",
            "|\\x00192821ac5aa99...|  9272.596436255739|          2|           4513813.0|        2|[9272.59643625573...|[0.61556844377533...|         0|\n",
            "|\\x001b1e09360cdcc...|-20.193116666666658|          3|   5577638.333333333|        2|[-20.193116666666...|[-0.0013405355756...|         0|\n",
            "|\\x001cd703bddb3df...| 181.11078000000003|          1|           1386794.0|        1|[181.110780000000...|[0.01202317837964...|         0|\n",
            "|\\x001d76124bd0fd5...|-151.13980999999998|          1|            443072.0|        1|[-151.13980999999...|[-0.0100335324926...|         0|\n",
            "+--------------------+-------------------+-----------+--------------------+---------+--------------------+--------------------+----------+\n",
            "only showing top 20 rows\n",
            "\n"
          ]
        }
      ],
      "source": [
        "output.show()"
      ]
    }
  ],
  "metadata": {
    "kernelspec": {
      "display_name": "nft-membership-nyu",
      "language": "python",
      "name": "python3"
    },
    "language_info": {
      "codemirror_mode": {
        "name": "ipython",
        "version": 3
      },
      "file_extension": ".py",
      "mimetype": "text/x-python",
      "name": "python",
      "nbconvert_exporter": "python",
      "pygments_lexer": "ipython3",
      "version": "3.9.16"
    },
    "orig_nbformat": 4
  },
  "nbformat": 4,
  "nbformat_minor": 2
}
