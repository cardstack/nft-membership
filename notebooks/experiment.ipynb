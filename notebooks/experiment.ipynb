{
 "cells": [
  {
   "cell_type": "code",
   "execution_count": null,
   "metadata": {},
   "outputs": [],
   "source": [
    "from source import dfs\n",
    "from utils import run_model, summary_plots, to_scaled_df\n",
    "import pyspark\n",
    "from pyspark.sql import SparkSession\n",
    "import pandas as pd"
   ]
  },
  {
   "cell_type": "code",
   "execution_count": null,
   "metadata": {},
   "outputs": [],
   "source": [
    "config={\"model\": \"bisecting_kmeans\",\"k\": 3,\"feature_names\": ['avg_spent','number_txns','avg_duration','frequency', 'num_nftcontract', 'num_currency'] }\n",
    "\n",
    "folder = \"experiment\"\n",
    "custom_path = f\"{folder}/model.parquet\"\n",
    "run_model(dfs, config, custom_path)"
   ]
  },
  {
   "cell_type": "code",
   "execution_count": null,
   "metadata": {},
   "outputs": [],
   "source": [
    "conf = pyspark.SparkConf()\n",
    "spark = SparkSession.builder.getOrCreate()\n",
    "output = spark.read.parquet(custom_path)\n",
    "scaled_df = to_scaled_df(output, config)"
   ]
  },
  {
   "cell_type": "code",
   "execution_count": null,
   "metadata": {},
   "outputs": [],
   "source": [
    "exprs = {x: \"mean\" for x in scaled_df.columns}\n",
    "scaled_df.groupBy(\"prediction\").agg(exprs).show()"
   ]
  },
  {
   "cell_type": "code",
   "execution_count": null,
   "metadata": {},
   "outputs": [],
   "source": [
    "out_dfp = scaled_df.toPandas()\n",
    "out_dfp['prediction'] = pd.Categorical(out_dfp.prediction)\n",
    "out_dfp\n",
    "# summary_plots(out_dfp, config, folder)"
   ]
  },
  {
   "cell_type": "code",
   "execution_count": 10,
   "metadata": {},
   "outputs": [],
   "source": [
    "import seaborn as sns\n",
    "\n",
    "p = out_dfp.melt(id_vars='prediction', var_name=\"features\")\n",
    "print(p)\n",
    "\n",
    "sns.catplot(data=p, x='value', y='prediction', estimator=\"mean\", hue='prediction',col='features', col_wrap=1)\n",
    "# sns.catplot(data=p, x='value', y='prediction', hue='prediction',col='features', col_wrap=1,kind='violin')\n",
    "# sns.swarmplot(data=p, x='value', y='prediction', hue='prediction')\n",
    "\n",
    "# g = sns.catplot(\n",
    "#     data=out_dfp,\n",
    "#     x=\"avg_spent\",\n",
    "#     y=\"prediction\",\n",
    "#     hue=\"prediction\",\n",
    "#     palette=\"husl\",\n",
    "#     kind=\"box\"\n",
    "# )"
   ]
  }
 ],
 "metadata": {
  "kernelspec": {
   "display_name": "nft-membership-nyu",
   "language": "python",
   "name": "python3"
  },
  "language_info": {
   "codemirror_mode": {
    "name": "ipython",
    "version": 3
   },
   "file_extension": ".py",
   "mimetype": "text/x-python",
   "name": "python",
   "nbconvert_exporter": "python",
   "pygments_lexer": "ipython3",
   "version": "3.9.16"
  },
  "orig_nbformat": 4
 },
 "nbformat": 4,
 "nbformat_minor": 2
}
