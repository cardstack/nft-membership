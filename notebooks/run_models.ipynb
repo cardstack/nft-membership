{
 "cells": [
  {
   "cell_type": "code",
   "execution_count": 11,
   "metadata": {},
   "outputs": [],
   "source": [
    "from source import dfs\n",
    "from utils import run_models "
   ]
  },
  {
   "cell_type": "code",
   "execution_count": 12,
   "metadata": {},
   "outputs": [
    {
     "name": "stderr",
     "output_type": "stream",
     "text": [
      "                                                                                \r"
     ]
    },
    {
     "name": "stdout",
     "output_type": "stream",
     "text": [
      "23/05/02 15:45:29 WARN MemoryManager: Total allocation exceeds 95.00% (1,020,054,720 bytes) of heap memory\n",
      "Scaling row group sizes to 95.00% for 8 writers\n",
      "23/05/02 15:45:33 WARN MemoryManager: Total allocation exceeds 95.00% (1,020,054,720 bytes) of heap memory\n",
      "Scaling row group sizes to 95.00% for 8 writers\n",
      "23/05/02 15:45:35 WARN MemoryManager: Total allocation exceeds 95.00% (1,020,054,720 bytes) of heap memory\n",
      "Scaling row group sizes to 95.00% for 8 writers\n"
     ]
    },
    {
     "name": "stderr",
     "output_type": "stream",
     "text": [
      "                                                                                \r"
     ]
    },
    {
     "name": "stdout",
     "output_type": "stream",
     "text": [
      "23/05/02 15:45:42 WARN MemoryManager: Total allocation exceeds 95.00% (1,020,054,720 bytes) of heap memory\n",
      "Scaling row group sizes to 95.00% for 8 writers\n"
     ]
    },
    {
     "name": "stderr",
     "output_type": "stream",
     "text": [
      "                                                                                \r"
     ]
    },
    {
     "name": "stdout",
     "output_type": "stream",
     "text": [
      "23/05/02 15:45:48 WARN MemoryManager: Total allocation exceeds 95.00% (1,020,054,720 bytes) of heap memory\n",
      "Scaling row group sizes to 95.00% for 8 writers\n"
     ]
    },
    {
     "name": "stderr",
     "output_type": "stream",
     "text": [
      "                                                                                \r"
     ]
    },
    {
     "name": "stdout",
     "output_type": "stream",
     "text": [
      "23/05/02 15:45:52 WARN MemoryManager: Total allocation exceeds 95.00% (1,020,054,720 bytes) of heap memory\n",
      "Scaling row group sizes to 95.00% for 8 writers\n"
     ]
    },
    {
     "name": "stderr",
     "output_type": "stream",
     "text": [
      "                                                                                \r"
     ]
    },
    {
     "name": "stdout",
     "output_type": "stream",
     "text": [
      "23/05/02 15:45:56 WARN MemoryManager: Total allocation exceeds 95.00% (1,020,054,720 bytes) of heap memory\n",
      "Scaling row group sizes to 95.00% for 8 writers\n"
     ]
    },
    {
     "name": "stderr",
     "output_type": "stream",
     "text": [
      "                                                                                \r"
     ]
    },
    {
     "name": "stdout",
     "output_type": "stream",
     "text": [
      "23/05/02 15:46:00 WARN MemoryManager: Total allocation exceeds 95.00% (1,020,054,720 bytes) of heap memory\n",
      "Scaling row group sizes to 95.00% for 8 writers\n"
     ]
    },
    {
     "name": "stderr",
     "output_type": "stream",
     "text": [
      "                                                                                \r"
     ]
    },
    {
     "name": "stdout",
     "output_type": "stream",
     "text": [
      "23/05/02 15:46:04 WARN MemoryManager: Total allocation exceeds 95.00% (1,020,054,720 bytes) of heap memory\n",
      "Scaling row group sizes to 95.00% for 8 writers\n",
      "23/05/02 15:46:08 WARN MemoryManager: Total allocation exceeds 95.00% (1,020,054,720 bytes) of heap memory\n",
      "Scaling row group sizes to 95.00% for 8 writers\n"
     ]
    },
    {
     "name": "stderr",
     "output_type": "stream",
     "text": [
      "                                                                                \r"
     ]
    },
    {
     "name": "stdout",
     "output_type": "stream",
     "text": [
      "23/05/02 15:46:14 WARN MemoryManager: Total allocation exceeds 95.00% (1,020,054,720 bytes) of heap memory\n",
      "Scaling row group sizes to 95.00% for 8 writers\n",
      "23/05/02 15:46:17 WARN MemoryManager: Total allocation exceeds 95.00% (1,020,054,720 bytes) of heap memory\n",
      "Scaling row group sizes to 95.00% for 8 writers\n"
     ]
    },
    {
     "name": "stderr",
     "output_type": "stream",
     "text": [
      "                                                                                \r"
     ]
    },
    {
     "name": "stdout",
     "output_type": "stream",
     "text": [
      "23/05/02 15:46:24 WARN MemoryManager: Total allocation exceeds 95.00% (1,020,054,720 bytes) of heap memory\n",
      "Scaling row group sizes to 95.00% for 8 writers\n"
     ]
    },
    {
     "name": "stderr",
     "output_type": "stream",
     "text": [
      "                                                                                \r"
     ]
    },
    {
     "name": "stdout",
     "output_type": "stream",
     "text": [
      "23/05/02 15:46:29 WARN MemoryManager: Total allocation exceeds 95.00% (1,020,054,720 bytes) of heap memory\n",
      "Scaling row group sizes to 95.00% for 8 writers\n"
     ]
    },
    {
     "name": "stderr",
     "output_type": "stream",
     "text": [
      "                                                                                \r"
     ]
    },
    {
     "name": "stdout",
     "output_type": "stream",
     "text": [
      "23/05/02 15:46:35 WARN MemoryManager: Total allocation exceeds 95.00% (1,020,054,720 bytes) of heap memory\n",
      "Scaling row group sizes to 95.00% for 8 writers\n"
     ]
    },
    {
     "name": "stderr",
     "output_type": "stream",
     "text": [
      "                                                                                \r"
     ]
    },
    {
     "name": "stdout",
     "output_type": "stream",
     "text": [
      "23/05/02 15:46:45 WARN MemoryManager: Total allocation exceeds 95.00% (1,020,054,720 bytes) of heap memory\n",
      "Scaling row group sizes to 95.00% for 8 writers\n",
      "23/05/02 15:46:52 WARN MemoryManager: Total allocation exceeds 95.00% (1,020,054,720 bytes) of heap memory\n",
      "Scaling row group sizes to 95.00% for 8 writers\n"
     ]
    },
    {
     "name": "stderr",
     "output_type": "stream",
     "text": [
      "                                                                                \r"
     ]
    },
    {
     "name": "stdout",
     "output_type": "stream",
     "text": [
      "23/05/02 15:47:03 WARN MemoryManager: Total allocation exceeds 95.00% (1,020,054,720 bytes) of heap memory\n",
      "Scaling row group sizes to 95.00% for 8 writers\n"
     ]
    },
    {
     "name": "stderr",
     "output_type": "stream",
     "text": [
      "[Stage 1491:>                                                       (0 + 8) / 8]\r"
     ]
    },
    {
     "name": "stdout",
     "output_type": "stream",
     "text": [
      "23/05/02 15:47:22 WARN MemoryManager: Total allocation exceeds 95.00% (1,020,054,720 bytes) of heap memory\n",
      "Scaling row group sizes to 95.00% for 8 writers\n"
     ]
    },
    {
     "name": "stderr",
     "output_type": "stream",
     "text": [
      "                                                                                \r"
     ]
    },
    {
     "name": "stdout",
     "output_type": "stream",
     "text": [
      "23/05/02 15:47:33 WARN MemoryManager: Total allocation exceeds 95.00% (1,020,054,720 bytes) of heap memory\n",
      "Scaling row group sizes to 95.00% for 8 writers\n"
     ]
    },
    {
     "name": "stderr",
     "output_type": "stream",
     "text": [
      "                                                                                \r"
     ]
    },
    {
     "name": "stdout",
     "output_type": "stream",
     "text": [
      "23/05/02 15:47:44 WARN MemoryManager: Total allocation exceeds 95.00% (1,020,054,720 bytes) of heap memory\n",
      "Scaling row group sizes to 95.00% for 8 writers\n"
     ]
    },
    {
     "name": "stderr",
     "output_type": "stream",
     "text": [
      "[Stage 1776:>                                                       (0 + 8) / 8]\r"
     ]
    },
    {
     "name": "stdout",
     "output_type": "stream",
     "text": [
      "23/05/02 15:47:54 WARN MemoryManager: Total allocation exceeds 95.00% (1,020,054,720 bytes) of heap memory\n",
      "Scaling row group sizes to 95.00% for 8 writers\n"
     ]
    },
    {
     "name": "stderr",
     "output_type": "stream",
     "text": [
      "                                                                                \r"
     ]
    },
    {
     "name": "stdout",
     "output_type": "stream",
     "text": [
      "23/05/02 15:48:09 WARN MemoryManager: Total allocation exceeds 95.00% (1,020,054,720 bytes) of heap memory\n",
      "Scaling row group sizes to 95.00% for 8 writers\n"
     ]
    },
    {
     "name": "stderr",
     "output_type": "stream",
     "text": [
      "                                                                                \r"
     ]
    },
    {
     "name": "stdout",
     "output_type": "stream",
     "text": [
      "23/05/02 15:48:20 WARN MemoryManager: Total allocation exceeds 95.00% (1,020,054,720 bytes) of heap memory\n",
      "Scaling row group sizes to 95.00% for 8 writers\n"
     ]
    },
    {
     "name": "stderr",
     "output_type": "stream",
     "text": [
      "                                                                                \r"
     ]
    },
    {
     "name": "stdout",
     "output_type": "stream",
     "text": [
      "23/05/02 15:48:28 WARN MemoryManager: Total allocation exceeds 95.00% (1,020,054,720 bytes) of heap memory\n",
      "Scaling row group sizes to 95.00% for 8 writers\n"
     ]
    },
    {
     "name": "stderr",
     "output_type": "stream",
     "text": [
      "                                                                                \r"
     ]
    },
    {
     "name": "stdout",
     "output_type": "stream",
     "text": [
      "[{'score': -0.5947077609417716, 'config': {'model': 'kmeans', 'k': 2, 'feature_names': ['avg_spent', 'number_txns', 'avg_duration', 'frequency']}}, {'score': -0.6704513113570745, 'config': {'model': 'kmeans', 'k': 3, 'feature_names': ['avg_spent', 'number_txns', 'avg_duration', 'frequency']}}, {'score': -0.1849149655414227, 'config': {'model': 'kmeans', 'k': 4, 'feature_names': ['avg_spent', 'number_txns', 'avg_duration', 'frequency']}}, {'score': -0.20501682876561755, 'config': {'model': 'kmeans', 'k': 5, 'feature_names': ['avg_spent', 'number_txns', 'avg_duration', 'frequency']}}, {'score': -0.6863440288290908, 'config': {'model': 'kmeans', 'k': 2, 'feature_names': ['avg_spent', 'number_txns', 'avg_duration', 'frequency', 'num_nftcontract']}}, {'score': -0.6947597200203671, 'config': {'model': 'kmeans', 'k': 3, 'feature_names': ['avg_spent', 'number_txns', 'avg_duration', 'frequency', 'num_nftcontract']}}, {'score': -0.18892702835805564, 'config': {'model': 'kmeans', 'k': 4, 'feature_names': ['avg_spent', 'number_txns', 'avg_duration', 'frequency', 'num_nftcontract']}}, {'score': -0.18985325072195314, 'config': {'model': 'kmeans', 'k': 5, 'feature_names': ['avg_spent', 'number_txns', 'avg_duration', 'frequency', 'num_nftcontract']}}, {'score': -0.18985325072195314, 'config': {'model': 'kmeans', 'k': 5, 'feature_names': ['avg_spent', 'number_txns', 'avg_duration', 'frequency', 'num_nftcontract']}}, {'score': -0.38130184191344124, 'config': {'model': 'kmeans', 'k': 2, 'feature_names': ['avg_spent', 'number_txns', 'avg_duration', 'frequency', 'num_nftcontract', 'num_currency']}}, {'score': -0.2304953671446363, 'config': {'model': 'kmeans', 'k': 3, 'feature_names': ['avg_spent', 'number_txns', 'avg_duration', 'frequency', 'num_nftcontract', 'num_currency']}}, {'score': -0.23073297425322342, 'config': {'model': 'kmeans', 'k': 4, 'feature_names': ['avg_spent', 'number_txns', 'avg_duration', 'frequency', 'num_nftcontract', 'num_currency']}}, {'score': -0.7250206913134783, 'config': {'model': 'kmeans', 'k': 5, 'feature_names': ['avg_spent', 'number_txns', 'avg_duration', 'frequency', 'num_nftcontract', 'num_currency']}}, {'score': -0.5947077609417716, 'config': {'model': 'bisecting_kmeans', 'k': 2, 'feature_names': ['avg_spent', 'number_txns', 'avg_duration', 'frequency']}}, {'score': -0.13495086263929384, 'config': {'model': 'bisecting_kmeans', 'k': 3, 'feature_names': ['avg_spent', 'number_txns', 'avg_duration', 'frequency']}}, {'score': -0.19917914647394652, 'config': {'model': 'bisecting_kmeans', 'k': 4, 'feature_names': ['avg_spent', 'number_txns', 'avg_duration', 'frequency']}}, {'score': -0.19684798540142193, 'config': {'model': 'bisecting_kmeans', 'k': 5, 'feature_names': ['avg_spent', 'number_txns', 'avg_duration', 'frequency']}}, {'score': -0.6553922467911568, 'config': {'model': 'bisecting_kmeans', 'k': 2, 'feature_names': ['avg_spent', 'number_txns', 'avg_duration', 'frequency', 'num_nftcontract']}}, {'score': -0.17731910753807578, 'config': {'model': 'bisecting_kmeans', 'k': 3, 'feature_names': ['avg_spent', 'number_txns', 'avg_duration', 'frequency', 'num_nftcontract']}}, {'score': -0.20609873963785907, 'config': {'model': 'bisecting_kmeans', 'k': 4, 'feature_names': ['avg_spent', 'number_txns', 'avg_duration', 'frequency', 'num_nftcontract']}}, {'score': -0.20376842000656695, 'config': {'model': 'bisecting_kmeans', 'k': 5, 'feature_names': ['avg_spent', 'number_txns', 'avg_duration', 'frequency', 'num_nftcontract']}}, {'score': -0.38130184191344124, 'config': {'model': 'bisecting_kmeans', 'k': 2, 'feature_names': ['avg_spent', 'number_txns', 'avg_duration', 'frequency', 'num_nftcontract', 'num_currency']}}, {'score': 0.4299255706534718, 'config': {'model': 'bisecting_kmeans', 'k': 3, 'feature_names': ['avg_spent', 'number_txns', 'avg_duration', 'frequency', 'num_nftcontract', 'num_currency']}}, {'score': -0.21942906627251987, 'config': {'model': 'bisecting_kmeans', 'k': 4, 'feature_names': ['avg_spent', 'number_txns', 'avg_duration', 'frequency', 'num_nftcontract', 'num_currency']}}, {'score': -0.22108235606682472, 'config': {'model': 'bisecting_kmeans', 'k': 5, 'feature_names': ['avg_spent', 'number_txns', 'avg_duration', 'frequency', 'num_nftcontract', 'num_currency']}}]\n"
     ]
    }
   ],
   "source": [
    "configs = [\n",
    "    {\"model\": \"kmeans\",\"k\": 2,\"feature_names\": ['avg_spent','number_txns','avg_duration','frequency'] },\n",
    "    {\"model\": \"kmeans\",\"k\": 3,\"feature_names\": ['avg_spent','number_txns','avg_duration','frequency'] },\n",
    "    {\"model\": \"kmeans\",\"k\": 4,\"feature_names\": ['avg_spent','number_txns','avg_duration','frequency'] },\n",
    "    {\"model\": \"kmeans\",\"k\": 5,\"feature_names\": ['avg_spent','number_txns','avg_duration','frequency'] },\n",
    "    {\"model\": \"kmeans\",\"k\": 2,\"feature_names\": ['avg_spent','number_txns','avg_duration','frequency', 'num_nftcontract'] },\n",
    "    {\"model\": \"kmeans\",\"k\": 3,\"feature_names\": ['avg_spent','number_txns','avg_duration','frequency', 'num_nftcontract'] },\n",
    "    {\"model\": \"kmeans\",\"k\": 4,\"feature_names\": ['avg_spent','number_txns','avg_duration','frequency', 'num_nftcontract' ] },\n",
    "    {\"model\": \"kmeans\",\"k\": 5,\"feature_names\": ['avg_spent','number_txns','avg_duration','frequency', 'num_nftcontract'] },\n",
    "    {\"model\": \"kmeans\",\"k\": 5,\"feature_names\": ['avg_spent','number_txns','avg_duration','frequency', 'num_nftcontract'] },\n",
    "    {\"model\": \"kmeans\",\"k\": 2,\"feature_names\": ['avg_spent','number_txns','avg_duration','frequency', 'num_nftcontract', 'num_currency'] },\n",
    "    {\"model\": \"kmeans\",\"k\": 3,\"feature_names\": ['avg_spent','number_txns','avg_duration','frequency', 'num_nftcontract', 'num_currency'] },\n",
    "    {\"model\": \"kmeans\",\"k\": 4,\"feature_names\": ['avg_spent','number_txns','avg_duration','frequency', 'num_nftcontract', 'num_currency'] },\n",
    "    {\"model\": \"kmeans\",\"k\": 5,\"feature_names\": ['avg_spent','number_txns','avg_duration','frequency', 'num_nftcontract', 'num_currency'] },\n",
    "    {\"model\": \"bisecting_kmeans\",\"k\": 2,\"feature_names\": ['avg_spent','number_txns','avg_duration','frequency']},\n",
    "    {\"model\": \"bisecting_kmeans\",\"k\": 3,\"feature_names\": ['avg_spent','number_txns','avg_duration','frequency']},\n",
    "    {\"model\": \"bisecting_kmeans\",\"k\": 4,\"feature_names\": ['avg_spent','number_txns','avg_duration','frequency']},\n",
    "    {\"model\": \"bisecting_kmeans\",\"k\": 5,\"feature_names\": ['avg_spent','number_txns','avg_duration','frequency']},\n",
    "    {\"model\": \"bisecting_kmeans\",\"k\": 2,\"feature_names\": ['avg_spent','number_txns','avg_duration','frequency', 'num_nftcontract']},\n",
    "    {\"model\": \"bisecting_kmeans\",\"k\": 3,\"feature_names\": ['avg_spent','number_txns','avg_duration','frequency', 'num_nftcontract']},\n",
    "    {\"model\": \"bisecting_kmeans\",\"k\": 4,\"feature_names\": ['avg_spent','number_txns','avg_duration','frequency', 'num_nftcontract']},\n",
    "    {\"model\": \"bisecting_kmeans\",\"k\": 5,\"feature_names\": ['avg_spent','number_txns','avg_duration','frequency', 'num_nftcontract']},\n",
    "    {\"model\": \"bisecting_kmeans\",\"k\": 2,\"feature_names\": ['avg_spent','number_txns','avg_duration','frequency', 'num_nftcontract', 'num_currency'] },\n",
    "    {\"model\": \"bisecting_kmeans\",\"k\": 3,\"feature_names\": ['avg_spent','number_txns','avg_duration','frequency', 'num_nftcontract', 'num_currency'] },\n",
    "    {\"model\": \"bisecting_kmeans\",\"k\": 4,\"feature_names\": ['avg_spent','number_txns','avg_duration','frequency', 'num_nftcontract', 'num_currency'] },\n",
    "    {\"model\": \"bisecting_kmeans\",\"k\": 5,\"feature_names\": ['avg_spent','number_txns','avg_duration','frequency', 'num_nftcontract', 'num_currency'] },\n",
    "]\n",
    "\n",
    "results = run_models(dfs, configs)\n",
    "print(results)"
   ]
  },
  {
   "cell_type": "code",
   "execution_count": 15,
   "metadata": {},
   "outputs": [
    {
     "ename": "TypeError",
     "evalue": "write() argument must be str, not list",
     "output_type": "error",
     "traceback": [
      "\u001b[0;31m---------------------------------------------------------------------------\u001b[0m",
      "\u001b[0;31mTypeError\u001b[0m                                 Traceback (most recent call last)",
      "Cell \u001b[0;32mIn[15], line 5\u001b[0m\n\u001b[1;32m      3\u001b[0m json_object \u001b[39m=\u001b[39m json\u001b[39m.\u001b[39mdumps(results, indent\u001b[39m=\u001b[39m\u001b[39m4\u001b[39m)\n\u001b[1;32m      4\u001b[0m \u001b[39mwith\u001b[39;00m \u001b[39mopen\u001b[39m(\u001b[39m\"\u001b[39m\u001b[39mmodel_data/summary.json\u001b[39m\u001b[39m\"\u001b[39m, \u001b[39m\"\u001b[39m\u001b[39mw\u001b[39m\u001b[39m\"\u001b[39m) \u001b[39mas\u001b[39;00m o:\n\u001b[0;32m----> 5\u001b[0m     o\u001b[39m.\u001b[39;49mwrite(results)\n",
      "\u001b[0;31mTypeError\u001b[0m: write() argument must be str, not list"
     ]
    }
   ],
   "source": [
    "import json \n",
    "\n",
    "json_object = json.dumps(results, indent=4)\n",
    "with open(\"model_data/summary.json\", \"w\") as o:\n",
    "    o.write(json_object)"
   ]
  },
  {
   "cell_type": "code",
   "execution_count": 13,
   "metadata": {},
   "outputs": [
    {
     "data": {
      "text/plain": [
       "{'score': 0.4299255706534718,\n",
       " 'config': {'model': 'bisecting_kmeans',\n",
       "  'k': 3,\n",
       "  'feature_names': ['avg_spent',\n",
       "   'number_txns',\n",
       "   'avg_duration',\n",
       "   'frequency',\n",
       "   'num_nftcontract',\n",
       "   'num_currency']}}"
      ]
     },
     "execution_count": 13,
     "metadata": {},
     "output_type": "execute_result"
    }
   ],
   "source": [
    "\n",
    "def find_config_with_max_score(ls):\n",
    "    r = { \"score\" : -1 }\n",
    "    for o in ls:\n",
    "        if o[\"score\"] >= r[\"score\"]:\n",
    "            r = o\n",
    "    return r\n",
    "\n",
    "find_config_with_max_score(results)"
   ]
  }
 ],
 "metadata": {
  "kernelspec": {
   "display_name": "nft-membership-nyu",
   "language": "python",
   "name": "python3"
  },
  "language_info": {
   "codemirror_mode": {
    "name": "ipython",
    "version": 3
   },
   "file_extension": ".py",
   "mimetype": "text/x-python",
   "name": "python",
   "nbconvert_exporter": "python",
   "pygments_lexer": "ipython3",
   "version": "3.9.16"
  },
  "orig_nbformat": 4
 },
 "nbformat": 4,
 "nbformat_minor": 2
}
